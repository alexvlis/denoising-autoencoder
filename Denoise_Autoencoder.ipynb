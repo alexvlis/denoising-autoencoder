{
 "cells": [
  {
   "cell_type": "code",
   "execution_count": 4,
   "metadata": {},
   "outputs": [],
   "source": [
    "import tensorflow as tf\n",
    "import numpy as np\n",
    "import matplotlib.pyplot as plt"
   ]
  },
  {
   "cell_type": "markdown",
   "metadata": {},
   "source": [
    "# Denoising Autoencoder\n",
    "In this lab, you will be applying a noise filter to MNIST images and using a denoising autoencoder to reconstruct the original image."
   ]
  },
  {
   "cell_type": "code",
   "execution_count": 8,
   "metadata": {},
   "outputs": [],
   "source": [
    "def masking_noise(X, v):\n",
    "    \"\"\" Apply masking noise to data in X, in other words a fraction v of elements of X\n",
    "    (chosen at random) is forced to zero.\"\"\"\n",
    "    \n",
    "    X_noise = X.copy()\n",
    "\n",
    "    n_samples = X.shape[0]\n",
    "    n_features = X.shape[1]\n",
    "\n",
    "    for i in range(n_samples):\n",
    "        mask = np.random.choice(range(n_features), int(v*n_features), replace=False)\n",
    "        for m in mask:\n",
    "            X_noise[i][m] = 0.\n",
    "    return X_noise"
   ]
  },
  {
   "cell_type": "markdown",
   "metadata": {},
   "source": [
    "<img src=\"files/ae_diagram.png\">"
   ]
  },
  {
   "cell_type": "markdown",
   "metadata": {},
   "source": [
    "# Network parameters and Hyperparameters"
   ]
  },
  {
   "cell_type": "code",
   "execution_count": 34,
   "metadata": {},
   "outputs": [],
   "source": [
    "# Parameters\n",
    "learning_rate = 0.01\n",
    "training_epochs = 5\n",
    "batch_size = 256\n",
    "\n",
    "# Network Parameters\n",
    "n_hidden_1 = 256 # 1st layer num features\n",
    "n_hidden_2 = 128 # 2nd layer num features\n",
    "n_input = 784 # MNIST data input (img shape: 28*28)"
   ]
  },
  {
   "cell_type": "markdown",
   "metadata": {},
   "source": [
    "Create a placeholder value for the input images after they are flattened to an array of dimension 784."
   ]
  },
  {
   "cell_type": "code",
   "execution_count": 11,
   "metadata": {},
   "outputs": [],
   "source": [
    "X = tf.placeholder(tf.float32, shape=(None, n_input))\n",
    "X_noise = tf.placeholder(tf.float32, shape=(None, n_input))"
   ]
  },
  {
   "cell_type": "markdown",
   "metadata": {},
   "source": [
    "Fill in the weights and biases dictionary for all the layers.\n",
    "\n",
    "Fill in the encoder and decoder functions:\n",
    "* The encoder function takes in a noisy image and returns a 128 dimensional tensor (the middle layer)\n",
    "* The decoder function takes in the middle layer of the network and outputs the restored image"
   ]
  },
  {
   "cell_type": "code",
   "execution_count": 16,
   "metadata": {},
   "outputs": [],
   "source": [
    "weights = {\n",
    "    'encoder_w1': tf.Variable(tf.truncated_normal([n_input, n_hidden_1], stddev=0.1)),\n",
    "    'encoder_w2': tf.Variable(tf.truncated_normal([n_hidden_1, n_hidden_2], stddev=0.1)),\n",
    "    'decoder_w1': tf.Variable(tf.truncated_normal([n_hidden_2, n_hidden_1], stddev=0.1)),\n",
    "    'decoder_w2': tf.Variable(tf.truncated_normal([n_hidden_1, n_input], stddev=0.1))\n",
    "}\n",
    "\n",
    "bias = {\n",
    "    \"encoder_b1\": tf.Variable(tf.truncated_normal([1, n_hidden_1], stddev=0.1)),\n",
    "    \"encoder_b2\": tf.Variable(tf.truncated_normal([1, n_hidden_2], stddev=0.1)),\n",
    "    \"decoder_b1\": tf.Variable(tf.truncated_normal([1, n_hidden_1], stddev=0.1)),\n",
    "    \"decoder_b2\": tf.Variable(tf.truncated_normal([1, n_input], stddev=0.1))\n",
    "}\n",
    "\n",
    "def encoder(X):\n",
    "    layer1 = tf.nn.sigmoid(tf.matmul(X, weights['encoder_w1']) + bias['encoder_b1'])\n",
    "    layer2 = tf.nn.sigmoid(tf.matmul(layer1, weights['encoder_w2']) + bias['encoder_b2'])\n",
    "    return layer2\n",
    "    \n",
    "def decoder(x):\n",
    "    layer1 = tf.nn.sigmoid(tf.matmul(x, weights['decoder_w1']) + bias['decoder_b1'])\n",
    "    layer2 = tf.nn.sigmoid(tf.matmul(layer1, weights['decoder_w2']) + bias['decoder_b2'])\n",
    "    return layer2"
   ]
  },
  {
   "cell_type": "markdown",
   "metadata": {},
   "source": [
    "Create the encoder and decoder layers using the functions above."
   ]
  },
  {
   "cell_type": "code",
   "execution_count": 17,
   "metadata": {},
   "outputs": [],
   "source": [
    "encoder_op = encoder(X_noise)\n",
    "decoder_op = decoder(encoder_op)\n",
    "\n",
    "pred = decoder_op"
   ]
  },
  {
   "cell_type": "markdown",
   "metadata": {},
   "source": [
    "Calculate the entropy by taking the Log Loss and calculate the overall loss by taking the mean of the entropy. The predicted value of this network is the output of the decoder and the true value is the original MNIST image *before* the noise filter is added."
   ]
  },
  {
   "cell_type": "code",
   "execution_count": 19,
   "metadata": {},
   "outputs": [],
   "source": [
    "entropy = tf.losses.log_loss(labels=X, predictions=decoder_op)\n",
    "loss = tf.reduce_mean(entropy)"
   ]
  },
  {
   "cell_type": "markdown",
   "metadata": {},
   "source": [
    "Define the optimizer as the RMSPropOptimizer which minimizes the loss calculated above."
   ]
  },
  {
   "cell_type": "code",
   "execution_count": 20,
   "metadata": {},
   "outputs": [],
   "source": [
    "optimizer = tf.train.AdamOptimizer(learning_rate=0.01).minimize(loss)"
   ]
  },
  {
   "cell_type": "code",
   "execution_count": 21,
   "metadata": {},
   "outputs": [
    {
     "name": "stdout",
     "output_type": "stream",
     "text": [
      "Extracting ../data/mnist/train-images-idx3-ubyte.gz\n",
      "Extracting ../data/mnist/train-labels-idx1-ubyte.gz\n",
      "Extracting ../data/mnist/t10k-images-idx3-ubyte.gz\n",
      "Extracting ../data/mnist/t10k-labels-idx1-ubyte.gz\n"
     ]
    }
   ],
   "source": [
    "from tensorflow.examples.tutorials.mnist import input_data\n",
    "MNIST = input_data.read_data_sets(\"../data/mnist\", one_hot = True)"
   ]
  },
  {
   "cell_type": "markdown",
   "metadata": {},
   "source": [
    "Start an interactive session and initialize all the variables created above."
   ]
  },
  {
   "cell_type": "code",
   "execution_count": 23,
   "metadata": {},
   "outputs": [],
   "source": [
    "sess = tf.InteractiveSession()\n",
    "sess.run(tf.global_variables_initializer())"
   ]
  },
  {
   "cell_type": "markdown",
   "metadata": {},
   "source": [
    "For each training epoch, take a batch of the training examples, apply the noise filter to each image, and run the optimizer and loss. At the end of each epoch, print the loss and confirm it decreases with each epoch. "
   ]
  },
  {
   "cell_type": "code",
   "execution_count": 35,
   "metadata": {},
   "outputs": [
    {
     "name": "stdout",
     "output_type": "stream",
     "text": [
      "Epoch 0: 23.008782006800175\n",
      "Epoch 1: 20.38760719448328\n",
      "Epoch 2: 19.551144406199455\n",
      "Epoch 3: 19.041027955710888\n",
      "Epoch 4: 18.657109938561916\n"
     ]
    }
   ],
   "source": [
    "num_batches = int(MNIST.train.num_examples/batch_size)\n",
    "\n",
    "for epoch in range(training_epochs):\n",
    "    total_loss = 0\n",
    "    for batch in range(num_batches):\n",
    "        x, _ = MNIST.train.next_batch(batch_size)\n",
    "        x_noise = masking_noise(x, 0.1)\n",
    "        _, l = sess.run([optimizer, loss], feed_dict={X_noise: x_noise, X: x})\n",
    "        total_loss += l\n",
    "    print(\"Epoch {0}: {1}\".format(epoch, total_loss))"
   ]
  },
  {
   "cell_type": "markdown",
   "metadata": {},
   "source": [
    "Use the code below to plot the original image, the noisy image, and the reconstructed image."
   ]
  },
  {
   "cell_type": "code",
   "execution_count": 36,
   "metadata": {},
   "outputs": [
    {
     "data": {
      "image/png": "[encoded data removed]",
      "text/plain": [
       "<matplotlib.figure.Figure at 0x11bdeda90>"
      ]
     },
     "metadata": {},
     "output_type": "display_data"
    }
   ],
   "source": [
    "x = MNIST.test.images[:10]\n",
    "x_noise = masking_noise(x, 0.5)\n",
    "pred_img = sess.run(pred, feed_dict = {X: x, X_noise:x_noise})\n",
    "f, a = plt.subplots(3, 10, figsize=(10, 3))\n",
    "plt.axis('off')\n",
    "for i in range(10):\n",
    "    a[0][i].imshow(np.reshape(x[i], (28, 28)))\n",
    "    a[1][i].imshow(np.reshape(x_noise[i], (28, 28)))\n",
    "    a[2][i].imshow(np.reshape(pred_img[i], (28, 28)))\n",
    "plt.show()\n",
    "        "
   ]
  },
  {
   "cell_type": "code",
   "execution_count": 37,
   "metadata": {},
   "outputs": [
    {
     "data": {
      "image/png": "[encoded data removed]",
      "text/plain": [
       "<matplotlib.figure.Figure at 0x11f1bc7f0>"
      ]
     },
     "metadata": {},
     "output_type": "display_data"
    },
    {
     "data": {
      "image/png": "[encoded data removed]",
      "text/plain": [
       "<matplotlib.figure.Figure at 0x11f1bc710>"
      ]
     },
     "metadata": {},
     "output_type": "display_data"
    }
   ],
   "source": [
    "plt.axis('off')\n",
    "f, a = plt.subplots(3, 10, figsize=(10, 3))\n",
    "for i in range(10):\n",
    "    a[0][i].imshow(np.reshape(x[i], (28, 28)), cmap='Greys',  interpolation='nearest')\n",
    "    a[1][i].imshow(np.reshape(x_noise[i], (28, 28)), cmap='Greys',  interpolation='nearest')\n",
    "    a[2][i].imshow(np.reshape(pred_img[i], (28, 28)), cmap='Greys',  interpolation='nearest')\n",
    "plt.show()"
   ]
  },
  {
   "cell_type": "code",
   "execution_count": null,
   "metadata": {
    "collapsed": true
   },
   "outputs": [],
   "source": []
  },
  {
   "cell_type": "code",
   "execution_count": null,
   "metadata": {
    "collapsed": true
   },
   "outputs": [],
   "source": []
  },
  {
   "cell_type": "code",
   "execution_count": null,
   "metadata": {
    "collapsed": true
   },
   "outputs": [],
   "source": []
  },
  {
   "cell_type": "code",
   "execution_count": null,
   "metadata": {
    "collapsed": true
   },
   "outputs": [],
   "source": []
  },
  {
   "cell_type": "code",
   "execution_count": null,
   "metadata": {
    "collapsed": true
   },
   "outputs": [],
   "source": []
  }
 ],
 "metadata": {
  "anaconda-cloud": {},
  "kernelspec": {
   "display_name": "Python 3",
   "language": "python",
   "name": "python3"
  },
  "language_info": {
   "codemirror_mode": {
    "name": "ipython",
    "version": 3
   },
   "file_extension": ".py",
   "mimetype": "text/x-python",
   "name": "python",
   "nbconvert_exporter": "python",
   "pygments_lexer": "ipython3",
   "version": "3.6.4"
  }
 },
 "nbformat": 4,
 "nbformat_minor": 1
}
